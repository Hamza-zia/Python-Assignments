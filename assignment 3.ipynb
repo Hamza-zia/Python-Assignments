{
 "cells": [
  {
   "cell_type": "code",
   "execution_count": 1,
   "metadata": {},
   "outputs": [],
   "source": [
    "studentdata = [\"Hamza Zia\",\"Punjab university\",\"50000\",\"Bs computer science\",\"1st feb 2020\"]"
   ]
  },
  {
   "cell_type": "code",
   "execution_count": 2,
   "metadata": {},
   "outputs": [],
   "source": [
    "newdata=\"Helo \"+studentdata[0]+\"\\nYour application is \"+studentdata[3]+\"is accepted in \"+studentdata[1]+\"\\nYour class starts in \"+studentdata[4]+\"\\nThnQ\""
   ]
  },
  {
   "cell_type": "code",
   "execution_count": 3,
   "metadata": {},
   "outputs": [
    {
     "name": "stdout",
     "output_type": "stream",
     "text": [
      "Helo Hamza Zia\n",
      "Your application is Bs computer scienceis accepted in Punjab university\n",
      "Your class starts in 1st feb 2020\n",
      "ThnQ\n"
     ]
    }
   ],
   "source": [
    "print(newdata)"
   ]
  },
  {
   "cell_type": "code",
   "execution_count": null,
   "metadata": {},
   "outputs": [],
   "source": []
  }
 ],
 "metadata": {
  "kernelspec": {
   "display_name": "Python 3",
   "language": "python",
   "name": "python3"
  },
  "language_info": {
   "codemirror_mode": {
    "name": "ipython",
    "version": 3
   },
   "file_extension": ".py",
   "mimetype": "text/x-python",
   "name": "python",
   "nbconvert_exporter": "python",
   "pygments_lexer": "ipython3",
   "version": "3.7.4"
  }
 },
 "nbformat": 4,
 "nbformat_minor": 2
}
